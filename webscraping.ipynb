{
 "cells": [
  {
   "cell_type": "code",
   "execution_count": 1,
   "id": "6ef69934-7502-4369-9219-1551d2ec5c3c",
   "metadata": {},
   "outputs": [
    {
     "name": "stdout",
     "output_type": "stream",
     "text": [
      "Scraping completed! Data saved to most_ducks_in_IPL.csv.\n"
     ]
    }
   ],
   "source": [
    "from selenium import webdriver\n",
    "from selenium.webdriver.common.by import By\n",
    "import pandas as pd\n",
    "import time\n",
    "\n",
    "# Initialize WebDriver\n",
    "driver = webdriver.Chrome()\n",
    "driver.get(\"https://www.espncricinfo.com/records/trophy/batting-most-ducks-career/indian-premier-league-117\")\n",
    "time.sleep(5)  # Let the page fully load\n",
    "\n",
    "# Locate table rows\n",
    "rows = driver.find_elements(By.XPATH, \"//table[contains(@class, 'ds-w-full')]//tbody/tr\")\n",
    "\n",
    "data = []\n",
    "for row in rows:\n",
    "    cols = row.find_elements(By.TAG_NAME, \"td\")\n",
    "    if len(cols) >= 7:\n",
    "        data.append([col.text.strip() for col in cols[:7]])\n",
    "\n",
    "# Close the driver\n",
    "driver.quit()\n",
    "\n",
    "# Create DataFrame and save to CSV\n",
    "df = pd.DataFrame(data, columns=[\"Player\", \"Span\", \"Mat\", \"Inns\", \"NO\", \"Runs\", \"Ducks\"])\n",
    "df.to_csv(\"most_ducks_in_IPL.csv\", index=False)\n",
    "\n",
    "print(\"Scraping completed! Data saved to most_ducks_in_IPL.csv.\")\n"
   ]
  },
  {
   "cell_type": "code",
   "execution_count": 11,
   "id": "9e2f2518-8ad0-431c-afec-cb221917e5a7",
   "metadata": {},
   "outputs": [
    {
     "name": "stdout",
     "output_type": "stream",
     "text": [
      "Scraping completed! Data saved to team_largest_margins_in_IPL.csv.\n"
     ]
    }
   ],
   "source": [
    "from selenium import webdriver\n",
    "from selenium.webdriver.common.by import By\n",
    "import pandas as pd\n",
    "import time\n",
    "\n",
    "# Initialize WebDriver\n",
    "driver = webdriver.Chrome()\n",
    "driver.get(\"https://www.espncricinfo.com/records/trophy/team-largest-margins/indian-premier-league-117\")\n",
    "time.sleep(5)  # Let the page fully load\n",
    "\n",
    "# Locate table rows\n",
    "rows = driver.find_elements(By.XPATH, \"//table[contains(@class, 'ds-w-full')]//tbody/tr\")\n",
    "\n",
    "data = []\n",
    "for row in rows:\n",
    "    cols = row.find_elements(By.TAG_NAME, \"td\")\n",
    "    if len(cols) >= 4:\n",
    "        data.append([col.text.strip() for col in cols[:4]])\n",
    "\n",
    "# Close the driver\n",
    "driver.quit()\n",
    "\n",
    "# Create DataFrame and save to CSV\n",
    "df = pd.DataFrame(data, columns=[\"Winner\", \"Margin\", \"balls rem\", \"Target\"])\n",
    "df.to_csv(\"team_largest_margins_in_IPL.csv\", index=False)\n",
    "\n",
    "print(\"Scraping completed! Data saved to team_largest_margins_in_IPL.csv.\")\n"
   ]
  },
  {
   "cell_type": "code",
   "execution_count": 1,
   "id": "689b85dc-c030-4ef5-aee7-a7fd83135ad0",
   "metadata": {},
   "outputs": [
    {
     "name": "stdout",
     "output_type": "stream",
     "text": [
      "Scraping completed! Data saved to team_smallest_margins_in_IPL.csv.\n"
     ]
    }
   ],
   "source": [
    "from selenium import webdriver\n",
    "from selenium.webdriver.common.by import By\n",
    "import pandas as pd\n",
    "import time\n",
    "\n",
    "# Initialize WebDriver\n",
    "driver = webdriver.Chrome()\n",
    "driver.get(\"https://www.espncricinfo.com/records/trophy/team-smallest-margins/indian-premier-league-117\")\n",
    "time.sleep(5)  # Let the page fully load\n",
    "\n",
    "# Locate table rows\n",
    "rows = driver.find_elements(By.XPATH, \"//table[contains(@class, 'ds-w-full')]//tbody/tr\")\n",
    "\n",
    "data = []\n",
    "for row in rows:\n",
    "    cols = row.find_elements(By.TAG_NAME, \"td\")\n",
    "    if len(cols) >= 4:\n",
    "        data.append([col.text.strip() for col in cols[:4]])\n",
    "\n",
    "# Close the driver\n",
    "driver.quit()\n",
    "\n",
    "# Create DataFrame and save to CSV\n",
    "df = pd.DataFrame(data, columns=[\"Winner\", \"Margin\", \"balls rem\", \"Target\"])\n",
    "df.to_csv(\"team_smallest_margins_in_IPL.csv\", index=False)\n",
    "\n",
    "print(\"Scraping completed! Data saved to team_smallest_margins_in_IPL.csv.\")\n"
   ]
  },
  {
   "cell_type": "code",
   "execution_count": 3,
   "id": "14f72e1f-a3a4-4f23-9667-bf2cf3c5fab9",
   "metadata": {},
   "outputs": [
    {
     "name": "stdout",
     "output_type": "stream",
     "text": [
      "Scraping completed! Data saved to most_fifties_in_IPL.csv.\n"
     ]
    }
   ],
   "source": [
    "from selenium import webdriver\n",
    "from selenium.webdriver.common.by import By\n",
    "import pandas as pd\n",
    "import time\n",
    "\n",
    "# Initialize WebDriver\n",
    "driver = webdriver.Chrome()\n",
    "driver.get(\"https://www.espncricinfo.com/records/trophy/batting-most-fifties-career/indian-premier-league-117\")\n",
    "time.sleep(5)  # Let the page fully load\n",
    "\n",
    "# Locate table rows\n",
    "rows = driver.find_elements(By.XPATH, \"//table[contains(@class, 'ds-w-full')]//tbody/tr\")\n",
    "\n",
    "data = []\n",
    "for row in rows:\n",
    "    cols = row.find_elements(By.TAG_NAME, \"td\")\n",
    "    if len(cols) >= 13:\n",
    "        data.append([col.text.strip() for col in cols[:13]])\n",
    "\n",
    "# Close the driver\n",
    "driver.quit()\n",
    "\n",
    "# Create DataFrame and save to CSV\n",
    "df = pd.DataFrame(data, columns=[\"Player\", \"Span\", \"Mat\", \"Inns\", \"NO\", \"Runs\", \"HS\", \"Ave\", \"BF\", \"SR\", \"100\", \"50\", \"50+\"])\n",
    "df.to_csv(\"most_fifties_in_IPL.csv\", index=False)\n",
    "\n",
    "print(\"Scraping completed! Data saved to most_fifties_in_IPL.csv.\")\n"
   ]
  },
  {
   "cell_type": "code",
   "execution_count": null,
   "id": "86a56c30-77e3-435b-a24d-8632d28f8b8b",
   "metadata": {},
   "outputs": [],
   "source": [
    "from selenium import webdriver\n",
    "from selenium.webdriver.common.by import By\n",
    "import pandas as pd\n",
    "import time\n",
    "\n",
    "# Initialize WebDriver\n",
    "driver = webdriver.Chrome()\n",
    "driver.get(\"https://www.espncricinfo.com/records/trophy/batting-most-fifties-career/indian-premier-league-117\")\n",
    "time.sleep(5)  # Let the page fully load\n",
    "\n",
    "# Locate table rows\n",
    "rows = driver.find_elements(By.XPATH, \"//table[contains(@class, 'ds-w-full')]//tbody/tr\")\n",
    "\n",
    "data = []\n",
    "for row in rows:\n",
    "    cols = row.find_elements(By.TAG_NAME, \"td\")\n",
    "    if len(cols) >= 13:\n",
    "        data.append([col.text.strip() for col in cols[:13]])\n",
    "\n",
    "# Close the driver\n",
    "driver.quit()\n",
    "\n",
    "# Create DataFrame and save to CSV\n",
    "df = pd.DataFrame(data, columns=[\"Player\", \"Span\", \"Mat\", \"Inns\", \"NO\", \"Runs\", \"HS\", \"Ave\", \"BF\", \"SR\", \"100\", \"50\", \"50+\"])\n",
    "df.to_csv(\"most_fifties_in_IPL.csv\", index=False)\n",
    "\n",
    "print(\"Scraping completed! Data saved to most_fifties_in_IPL.csv.\")\n"
   ]
  },
  {
   "cell_type": "code",
   "execution_count": 9,
   "id": "910284de-c966-4df0-9ce4-daba9df00a95",
   "metadata": {},
   "outputs": [
    {
     "name": "stdout",
     "output_type": "stream",
     "text": [
      "Scraping completed! Data saved to ipl_highest_\n"
     ]
    }
   ],
   "source": [
    "from selenium import webdriver\n",
    "from selenium.webdriver.common.by import By\n",
    "import pandas as pd\n",
    "import time\n",
    "\n",
    "# Initialize WebDriver\n",
    "driver = webdriver.Chrome()\n",
    "driver.get(\"https://www.espncricinfo.com/records/trophy/team-highest-innings-totals/indian-premier-league-117\")\n",
    "time.sleep(5)  # Wait for the page to load\n",
    "\n",
    "# Locate table rows\n",
    "rows = driver.find_elements(By.XPATH, \"//table[contains(@class, 'ds-w-full')]//tbody/tr\")\n",
    "\n",
    "data = []\n",
    "for row in rows:\n",
    "    cols = row.find_elements(By.TAG_NAME, \"td\")\n",
    "    if len(cols) >= 4:\n",
    "        data.append([col.text.strip() for col in cols[:4]])\n",
    "\n",
    "# Close the driver\n",
    "driver.quit()\n",
    "\n",
    "# Save data to a CSV file\n",
    "df = pd.DataFrame(data, columns=[\"Team\", \"Score\", \"Overs\",\"RR\"])\n",
    "df.to_csv(\"ipl_highest_totals.csv\", index=False)\n",
    "\n",
    "print(\"Scraping completed! Data saved to ipl_highest_\")\n"
   ]
  },
  {
   "cell_type": "code",
   "execution_count": 15,
   "id": "9ffd674e-eead-444d-a8fe-745eeb996947",
   "metadata": {},
   "outputs": [
    {
     "name": "stdout",
     "output_type": "stream",
     "text": [
      "Scraping completed! Data saved to cricket_results_2023.csv.\n"
     ]
    }
   ],
   "source": [
    "from selenium import webdriver\n",
    "from selenium.webdriver.common.by import By\n",
    "import pandas as pd\n",
    "import time\n",
    "\n",
    "# Initialize WebDriver\n",
    "driver = webdriver.Chrome()\n",
    "driver.get(\"https://www.espncricinfo.com/records/season/team-match-results/2023-2023?trophy=117\")\n",
    "time.sleep(5)  # Wait for the page to load\n",
    "\n",
    "# Locate table rows\n",
    "rows = driver.find_elements(By.XPATH, \"//table[contains(@class, 'ds-w-full')]//tbody/tr\")\n",
    "\n",
    "data = []\n",
    "for row in rows:\n",
    "    cols = row.find_elements(By.TAG_NAME, \"td\")\n",
    "    if len(cols) >= 4:\n",
    "        data.append([col.text.strip() for col in cols[:4]])\n",
    "\n",
    "# Close the driver\n",
    "driver.quit()\n",
    "\n",
    "# Save data to a CSV file\n",
    "df = pd.DataFrame(data, columns=[\"Team 1\", \"Team 2\", \"Winner\", \"Margin\"])\n",
    "df.to_csv(\"cricket_results_2023.csv\", index=False)\n",
    "\n",
    "print(\"Scraping completed! Data saved to cricket_results_2023.csv.\")\n"
   ]
  },
  {
   "cell_type": "code",
   "execution_count": 14,
   "id": "36be55e4-7755-4438-a964-c8de780d8529",
   "metadata": {},
   "outputs": [
    {
     "name": "stdout",
     "output_type": "stream",
     "text": [
      "Scraping completed! Data saved to cricket_results_2023.csv.\n"
     ]
    }
   ],
   "source": [
    "from selenium import webdriver\n",
    "from selenium.webdriver.common.by import By\n",
    "import pandas as pd\n",
    "import time\n",
    "\n",
    "# Initialize WebDriver\n",
    "driver = webdriver.Chrome()\n",
    "driver.get(\"https://www.espncricinfo.com/records/season/team-match-results/2023-2023?trophy=117\")\n",
    "time.sleep(5)  # Wait for the page to load\n",
    "\n",
    "# Locate table rows\n",
    "rows = driver.find_elements(By.XPATH, \"//table[contains(@class, 'ds-w-full')]//tbody/tr\")\n",
    "\n",
    "data = []\n",
    "for row in rows:\n",
    "    cols = row.find_elements(By.TAG_NAME, \"td\")\n",
    "    if len(cols) >= 4:\n",
    "        data.append([col.text.strip() for col in cols[:4]])\n",
    "\n",
    "# Close the driver\n",
    "driver.quit()\n",
    "\n",
    "# Save data to a CSV file\n",
    "df = pd.DataFrame(data, columns=[\"Team 1\", \"Team 2\", \"Winner\", \"Margin\"])\n",
    "df.to_csv(\"cricket_results_2023.csv\", index=False)\n",
    "\n",
    "print(\"Scraping completed! Data saved to cricket_results_2023.csv.\")\n"
   ]
  },
  {
   "cell_type": "code",
   "execution_count": 13,
   "id": "1f07a9bd-44ba-482c-8ce4-438c67e543f0",
   "metadata": {},
   "outputs": [
    {
     "name": "stdout",
     "output_type": "stream",
     "text": [
      "Scraping completed! Data saved to cricket_results_2022.csv.\n"
     ]
    }
   ],
   "source": [
    "from selenium import webdriver\n",
    "from selenium.webdriver.common.by import By\n",
    "import pandas as pd\n",
    "import time\n",
    "\n",
    "# Initialize WebDriver\n",
    "driver = webdriver.Chrome()\n",
    "driver.get(\"https://www.espncricinfo.com/records/season/team-match-results/2022-2022?trophy=117\")\n",
    "time.sleep(5)  # Wait for the page to load\n",
    "\n",
    "# Locate table rows\n",
    "rows = driver.find_elements(By.XPATH, \"//table[contains(@class, 'ds-w-full')]//tbody/tr\")\n",
    "\n",
    "data = []\n",
    "for row in rows:\n",
    "    cols = row.find_elements(By.TAG_NAME, \"td\")\n",
    "    if len(cols) >= 4:\n",
    "        data.append([col.text.strip() for col in cols[:4]])\n",
    "\n",
    "# Close the driver\n",
    "driver.quit()\n",
    "\n",
    "# Save data to a CSV file\n",
    "df = pd.DataFrame(data, columns=[\"Team 1\", \"Team 2\", \"Winner\", \"Margin\"])\n",
    "df.to_csv(\"cricket_results_2022.csv\", index=False)\n",
    "\n",
    "print(\"Scraping completed! Data saved to cricket_results_2022.csv.\")\n"
   ]
  },
  {
   "cell_type": "code",
   "execution_count": 12,
   "id": "f019ba9c-9440-4329-b851-4010921aa536",
   "metadata": {},
   "outputs": [
    {
     "name": "stdout",
     "output_type": "stream",
     "text": [
      "Scraping completed! Data saved to batting_most_runs_career_2021.csv.\n"
     ]
    }
   ],
   "source": [
    "from selenium import webdriver\n",
    "from selenium.webdriver.common.by import By\n",
    "import pandas as pd\n",
    "import time\n",
    "\n",
    "# Initialize WebDriver\n",
    "driver = webdriver.Chrome()\n",
    "driver.get(\"https://www.espncricinfo.com/records/trophy/batting-most-runs-career/indian-premier-league-117\")\n",
    "time.sleep(5)  # Wait for the page to load\n",
    "\n",
    "# Locate table rows\n",
    "rows = driver.find_elements(By.XPATH, \"//table[contains(@class, 'ds-w-full')]//tbody/tr\")\n",
    "\n",
    "data = []\n",
    "for row in rows:\n",
    "    cols = row.find_elements(By.TAG_NAME, \"td\")\n",
    "    if len(cols) >= 6:\n",
    "        data.append([col.text.strip() for col in cols[:6]])\n",
    "\n",
    "# Close the driver\n",
    "driver.quit()\n",
    "\n",
    "# Save data to a CSV file\n",
    "df = pd.DataFrame(data, columns=[\"player\", \"span\", \"mat\", \"inns\", \"NO\", \"Runs\"])\n",
    "df.to_csv(\"cricket_results_most_runs.csv\", index=False)\n",
    "\n",
    "print(\"Scraping completed! Data saved to batting_most_runs_career_2021.csv.\")\n"
   ]
  },
  {
   "cell_type": "code",
   "execution_count": 11,
   "id": "1e18c1d0-5f69-4296-89c7-6aece5b9fe7b",
   "metadata": {},
   "outputs": [
    {
     "name": "stdout",
     "output_type": "stream",
     "text": [
      "Scraping completed! Data saved to cricket_results_most_wkts_career.csv.\n"
     ]
    }
   ],
   "source": [
    "from selenium import webdriver\n",
    "from selenium.webdriver.common.by import By\n",
    "import pandas as pd\n",
    "import time\n",
    "\n",
    "# Initialize WebDriver\n",
    "driver = webdriver.Chrome()\n",
    "driver.get(\"https://www.espncricinfo.com/records/trophy/bowling-most-wickets-career/indian-premier-league-117\")\n",
    "time.sleep(5)  # Wait for the page to load\n",
    "\n",
    "# Locate table rows\n",
    "rows = driver.find_elements(By.XPATH, \"//table[contains(@class, 'ds-w-full')]//tbody/tr\")\n",
    "\n",
    "data = []\n",
    "for row in rows:\n",
    "    cols = row.find_elements(By.TAG_NAME, \"td\")\n",
    "    if len(cols) >= 9:\n",
    "        data.append([col.text.strip() for col in cols[:9]])\n",
    "\n",
    "# Close the driver\n",
    "driver.quit()\n",
    "\n",
    "# Save data to a CSV file\n",
    "df = pd.DataFrame(data, columns=[\"player\", \"span\", \"mat\", \"inns\", \"balls\", \"overs\", \"mdns\", \"runs\", \"Wkts\"])\n",
    "df.to_csv(\"cricket_results_most_wkts.csv\", index=False)\n",
    "\n",
    "print(\"Scraping completed! Data saved to cricket_results_most_wkts_career.csv.\")\n"
   ]
  },
  {
   "cell_type": "code",
   "execution_count": 10,
   "id": "34132698-ba93-413e-9153-e730b33c1531",
   "metadata": {},
   "outputs": [
    {
     "name": "stdout",
     "output_type": "stream",
     "text": [
      "Scraping completed! Data saved to cricket_most_catches_career.csv.\n"
     ]
    }
   ],
   "source": [
    "from selenium import webdriver\n",
    "from selenium.webdriver.common.by import By\n",
    "import pandas as pd\n",
    "import time\n",
    "\n",
    "# Initialize WebDriver\n",
    "driver = webdriver.Chrome()\n",
    "driver.get(\"https://www.espncricinfo.com/records/trophy/fielding-most-catches-career/indian-premier-league-117\")\n",
    "time.sleep(5)  # Wait for the page to load\n",
    "\n",
    "# Locate table rows\n",
    "rows = driver.find_elements(By.XPATH, \"//table[contains(@class, 'ds-w-full')]//tbody/tr\")\n",
    "\n",
    "data = []\n",
    "for row in rows:\n",
    "    cols = row.find_elements(By.TAG_NAME, \"td\")\n",
    "    if len(cols) >= 5:\n",
    "        data.append([col.text.strip() for col in cols[:5]])\n",
    "\n",
    "# Close the driver\n",
    "driver.quit()\n",
    "\n",
    "# Save data to a CSV file\n",
    "df = pd.DataFrame(data, columns=[\"player\", \"span\", \"mat\", \"inns\", \"ct\"])\n",
    "df.to_csv(\"cricket_results_most_catches.csv\", index=False)\n",
    "\n",
    "print(\"Scraping completed! Data saved to cricket_most_catches_career.csv.\")\n"
   ]
  },
  {
   "cell_type": "code",
   "execution_count": 9,
   "id": "37ed31c4-eacf-4a2f-9890-a2212e268dc3",
   "metadata": {},
   "outputs": [
    {
     "name": "stdout",
     "output_type": "stream",
     "text": [
      "Scraping completed! Data saved to highest_avg.csv.\n"
     ]
    }
   ],
   "source": [
    "from selenium import webdriver\n",
    "from selenium.webdriver.common.by import By\n",
    "import pandas as pd\n",
    "import time\n",
    "\n",
    "# Initialize WebDriver\n",
    "driver = webdriver.Chrome()\n",
    "driver.get(\"https://www.espncricinfo.com/records/trophy/batting-highest-career-batting-average/indian-premier-league-117\")\n",
    "time.sleep(5)  # Wait for the page to load\n",
    "\n",
    "# Locate table rows\n",
    "rows = driver.find_elements(By.XPATH, \"//table[contains(@class, 'ds-w-full')]//tbody/tr\")\n",
    "\n",
    "data = []\n",
    "for row in rows:\n",
    "    cols = row.find_elements(By.TAG_NAME, \"td\")\n",
    "    if len(cols) >= 8:\n",
    "        data.append([col.text.strip() for col in cols[:8]])\n",
    "\n",
    "# Close the driver\n",
    "driver.quit()\n",
    "\n",
    "# Save data to a CSV file\n",
    "df = pd.DataFrame(data, columns=[\"Player\",\"Span\",\"Mat\",\"Inns\",\"NO\",\"Runs\",\"HS\",\"Ave\"])\n",
    "df.to_csv(\"highest_avg.csv\", index=False)\n",
    "\n",
    "print(\"Scraping completed! Data saved to highest_avg.csv.\")\n"
   ]
  },
  {
   "cell_type": "code",
   "execution_count": 3,
   "id": "f9e5d409-a9bb-470e-8479-3b9870112139",
   "metadata": {},
   "outputs": [
    {
     "name": "stdout",
     "output_type": "stream",
     "text": [
      "Scraping completed! Data saved to CSK.csv.\n"
     ]
    }
   ],
   "source": [
    "from selenium import webdriver\n",
    "from selenium.webdriver.common.by import By\n",
    "import pandas as pd\n",
    "import time\n",
    "\n",
    "# Initialize WebDriver\n",
    "driver = webdriver.Chrome()\n",
    "driver.get(\"https://www.espncricinfo.com/records/trophy/averages-batting/indian-premier-league-117?team=4343\")\n",
    "time.sleep(5)  # Wait for the page to load\n",
    "\n",
    "# Locate table rows\n",
    "rows = driver.find_elements(By.XPATH, \"//table[contains(@class, 'ds-w-full')]//tbody/tr\")\n",
    "\n",
    "data = []\n",
    "for row in rows:\n",
    "    cols = row.find_elements(By.TAG_NAME, \"td\")\n",
    "    if len(cols) >= 8:\n",
    "        data.append([col.text.strip() for col in cols[:8]])\n",
    "\n",
    "# Close the driver\n",
    "driver.quit()\n",
    "\n",
    "# Save data to a CSV file\n",
    "df = pd.DataFrame(data, columns=[\"Player\",\"Span\",\"Mat\",\"Inns\",\"NO\",\"Runs\",\"HS\",\"Ave\"])\n",
    "df.to_csv(\"CSK.csv\", index=False)\n",
    "\n",
    "print(\"Scraping completed! Data saved to CSK.csv.\")\n"
   ]
  },
  {
   "cell_type": "code",
   "execution_count": null,
   "id": "e8bada2c-d27c-473e-b063-ed4b4962f699",
   "metadata": {},
   "outputs": [],
   "source": []
  },
  {
   "cell_type": "code",
   "execution_count": null,
   "id": "b7116363-0a63-48f0-95bb-5d701f88f940",
   "metadata": {},
   "outputs": [],
   "source": []
  }
 ],
 "metadata": {
  "kernelspec": {
   "display_name": "Python 3 (ipykernel)",
   "language": "python",
   "name": "python3"
  },
  "language_info": {
   "codemirror_mode": {
    "name": "ipython",
    "version": 3
   },
   "file_extension": ".py",
   "mimetype": "text/x-python",
   "name": "python",
   "nbconvert_exporter": "python",
   "pygments_lexer": "ipython3",
   "version": "3.12.7"
  }
 },
 "nbformat": 4,
 "nbformat_minor": 5
}
